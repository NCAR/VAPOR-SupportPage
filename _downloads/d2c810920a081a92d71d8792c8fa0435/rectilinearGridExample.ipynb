{
  "cells": [
    {
      "cell_type": "code",
      "execution_count": null,
      "metadata": {
        "collapsed": false
      },
      "outputs": [],
      "source": [
        "%matplotlib inline"
      ]
    },
    {
      "cell_type": "markdown",
      "metadata": {},
      "source": [
        "\n# rectilinearGridExample.py\nThis script applies the CF Conventions to a basic NetCDF file so Vapor can read it.\nIt performs the the following:\n   - Creates \"Coordinate Variables\" for the spatial and time dimensions\n   - Adds the \"axis\" attributes to these new Coordinate Variables\n   - Adds the \"units\" attribute to these new Coordinate Variables\n\nThe sample data for this script can be downloaded here:\n    https://github.com/NCAR/VAPOR-Data/blob/main/netCDF/simple.nc\n"
      ]
    },
    {
      "cell_type": "markdown",
      "metadata": {},
      "source": [
        "Import packages:\n\n"
      ]
    },
    {
      "cell_type": "code",
      "execution_count": null,
      "metadata": {
        "collapsed": false
      },
      "outputs": [],
      "source": [
        "import xarray as xr\nimport numpy as np\nfrom pathlib import Path\n# sphinx_gallery_thumbnail_path = '_images/rectilinear.png'"
      ]
    },
    {
      "cell_type": "markdown",
      "metadata": {},
      "source": [
        "Open sample data as an xarray dataset.\nModify the 'home' variable to point to the directory containing sample data\n\n"
      ]
    },
    {
      "cell_type": "code",
      "execution_count": null,
      "metadata": {
        "collapsed": false
      },
      "outputs": [],
      "source": [
        "home = str(Path.home())\nsimpleNC = home + \"/simple.nc\"\nds = xr.open_dataset(simpleNC)\n\nds.info()"
      ]
    },
    {
      "cell_type": "markdown",
      "metadata": {},
      "source": [
        "Create a Coordinate Variable for our 'time' dimension and assign a value to it\n\n"
      ]
    },
    {
      "cell_type": "code",
      "execution_count": null,
      "metadata": {
        "collapsed": false
      },
      "outputs": [],
      "source": [
        "ds['time'] = np.linspace(start=0, stop=0, num=1);"
      ]
    },
    {
      "cell_type": "markdown",
      "metadata": {},
      "source": [
        "Generate Coordinate Variables for our x, y, z dimensions.  The coordinates\nwill monotonically increase in spacing logarithmically, and are generated \nwith numpy's geomspace function.\nhttps://numpy.org/doc/stable/reference/generated/numpy.geomspace.html\n\n"
      ]
    },
    {
      "cell_type": "code",
      "execution_count": null,
      "metadata": {
        "collapsed": false
      },
      "outputs": [],
      "source": [
        "ds['y'] = np.geomspace(start=1, stop=100, num=48)\nds['x'] = np.geomspace(start=1, stop=100, num=48)\nds['z'] = np.geomspace(start=1, stop=50, num=24)\n\nds.info()"
      ]
    },
    {
      "cell_type": "markdown",
      "metadata": {},
      "source": [
        "Give our Coordinate Variables 'axis' attributes so Vapor knows which axes they\napply to\n\n"
      ]
    },
    {
      "cell_type": "code",
      "execution_count": null,
      "metadata": {
        "collapsed": false
      },
      "outputs": [],
      "source": [
        "ds.time.attrs['axis']      = 'T'\nds.x.attrs['axis']         = 'X'\nds.y.attrs['axis']         = 'Y'\nds.z.attrs['axis']         = 'Z'"
      ]
    },
    {
      "cell_type": "markdown",
      "metadata": {},
      "source": [
        "Give our Coordinate Variables 'units' attributes\n\n"
      ]
    },
    {
      "cell_type": "code",
      "execution_count": null,
      "metadata": {
        "collapsed": false
      },
      "outputs": [],
      "source": [
        "ds.time.attrs['units']     = 'seconds since 2000-0101'\nds.x.attrs['units']        = 'm'\nds.y.attrs['units']        = 'm'\nds.z.attrs['units']        = 'm'"
      ]
    },
    {
      "cell_type": "markdown",
      "metadata": {},
      "source": [
        "It's optional but advisable to give our scalar variables a 'units' attribute\n\n"
      ]
    },
    {
      "cell_type": "code",
      "execution_count": null,
      "metadata": {
        "collapsed": false
      },
      "outputs": [],
      "source": [
        "ds.temperature.attrs['units'] = 'K'\n\nds.info()"
      ]
    },
    {
      "cell_type": "markdown",
      "metadata": {},
      "source": [
        "Save our file for reading into Vapor\n\n"
      ]
    },
    {
      "cell_type": "code",
      "execution_count": null,
      "metadata": {
        "collapsed": false
      },
      "outputs": [],
      "source": [
        "ds.to_netcdf( home + \"/regularCompliant.nc\")"
      ]
    },
    {
      "cell_type": "markdown",
      "metadata": {},
      "source": [
        "Plot a 2D cross section of temperature\n\n"
      ]
    },
    {
      "cell_type": "code",
      "execution_count": null,
      "metadata": {
        "collapsed": false
      },
      "outputs": [],
      "source": [
        "ds.isel(time=0, z=0).temperature.plot(size=6, robust=True);"
      ]
    }
  ],
  "metadata": {
    "kernelspec": {
      "display_name": "Python 3",
      "language": "python",
      "name": "python3"
    },
    "language_info": {
      "codemirror_mode": {
        "name": "ipython",
        "version": 3
      },
      "file_extension": ".py",
      "mimetype": "text/x-python",
      "name": "python",
      "nbconvert_exporter": "python",
      "pygments_lexer": "ipython3",
      "version": "3.9.15"
    }
  },
  "nbformat": 4,
  "nbformat_minor": 0
}